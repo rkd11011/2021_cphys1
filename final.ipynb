{
 "cells": [
  {
   "cell_type": "markdown",
   "metadata": {},
   "source": [
    "# 1. Random Walks\n",
    "\n",
    "#### (a) 1차원 랜덤워크 모형을 시뮬레이션으로 구현하여라. 구체적으로 1차원 격자에서 왼쪽으로 움직일 확률이 1/2, 오른쪽으로 움직일 확률이 1/2로 가정하자. 그리고 $t$시간이 지난 후에 입자가 존재하는 위치를 구하는 코드를 작성하여라. 초기에 입자는 원점에 존재하며 매 타임스텝마다 1번씩 움직인다. (몬테카를로 시뮬레이션)"
   ]
  },
  {
   "cell_type": "code",
   "execution_count": 231,
   "metadata": {},
   "outputs": [],
   "source": [
    "import random\n",
    "import numpy as np\n",
    "import matplotlib.pyplot as plt\n",
    "import sympy\n",
    "from sympy import Symbol"
   ]
  },
  {
   "cell_type": "code",
   "execution_count": 232,
   "metadata": {},
   "outputs": [],
   "source": [
    "\n",
    "def RandomWalks(t):\n",
    "    pot=0\n",
    "    for i in range(t):\n",
    "        x=random.randint(0,1)\n",
    "        if x==1:\n",
    "            pot+=1\n",
    "        else:\n",
    "            pot-=1\n",
    "    return pot"
   ]
  },
  {
   "cell_type": "code",
   "execution_count": 233,
   "metadata": {},
   "outputs": [
    {
     "data": {
      "text/plain": [
       "6"
      ]
     },
     "execution_count": 233,
     "metadata": {},
     "output_type": "execute_result"
    }
   ],
   "source": [
    "RandomWalks(100)"
   ]
  },
  {
   "cell_type": "markdown",
   "metadata": {},
   "source": [
    "#### (b) 이러한 시행을 충분히 많이 시행하여서 $t$시간 후에 입자가 특정 위치에 존재하는 확률 분포를 구하여라. (파이썬 기초)"
   ]
  },
  {
   "cell_type": "code",
   "execution_count": 234,
   "metadata": {},
   "outputs": [],
   "source": [
    "def N_repeatRW(n,t):#(반복시행,시간)\n",
    "    pots=[]\n",
    "    pots_per=[]\n",
    "    x=[]\n",
    "    add=0\n",
    "    max_pot=0\n",
    "    min_pot=0\n",
    "    for i in range(n):\n",
    "        pots.append(RandomWalks(t))\n",
    "    \n",
    "    pots.sort()\n",
    "    max_pot=pots[n-1] \n",
    "    min_pot=pots[0]\n",
    "\n",
    "    for i in range(min_pot,max_pot+1):\n",
    "        x.append(i)\n",
    "        add=0\n",
    "        for j in range(n):\n",
    "           \n",
    "                if pots[j]==i:\n",
    "                    add+=1\n",
    "        \n",
    "        pots_per.append(add/n)\n",
    "    print(\"위치 : 확률\")\n",
    "    for i in range (max_pot+1-min_pot):\n",
    "        print(x[i],\":\",pots_per[i])\n",
    "    \n",
    "    plt.bar(x,pots_per,label=\"n=%d t=%d\"%(n,t))\n",
    "    plt.xlabel(\"x-position\")\n",
    "    plt.ylabel(\"percentage\")\n",
    "    plt.legend()\n",
    "    plt.show()\n",
    "    \n",
    "\n"
   ]
  },
  {
   "cell_type": "code",
   "execution_count": 235,
   "metadata": {},
   "outputs": [
    {
     "name": "stdout",
     "output_type": "stream",
     "text": [
      "위치 : 확률\n",
      "-108 : 0.001\n",
      "-107 : 0.0\n",
      "-106 : 0.0\n",
      "-105 : 0.0\n",
      "-104 : 0.0\n",
      "-103 : 0.0\n",
      "-102 : 0.0\n",
      "-101 : 0.0\n",
      "-100 : 0.0\n",
      "-99 : 0.0\n",
      "-98 : 0.0\n",
      "-97 : 0.0\n",
      "-96 : 0.0\n",
      "-95 : 0.0\n",
      "-94 : 0.0\n",
      "-93 : 0.0\n",
      "-92 : 0.0\n",
      "-91 : 0.0\n",
      "-90 : 0.0\n",
      "-89 : 0.0\n",
      "-88 : 0.0\n",
      "-87 : 0.0\n",
      "-86 : 0.0\n",
      "-85 : 0.0\n",
      "-84 : 0.001\n",
      "-83 : 0.0\n",
      "-82 : 0.001\n",
      "-81 : 0.0\n",
      "-80 : 0.001\n",
      "-79 : 0.0\n",
      "-78 : 0.002\n",
      "-77 : 0.0\n",
      "-76 : 0.002\n",
      "-75 : 0.0\n",
      "-74 : 0.002\n",
      "-73 : 0.0\n",
      "-72 : 0.001\n",
      "-71 : 0.0\n",
      "-70 : 0.002\n",
      "-69 : 0.0\n",
      "-68 : 0.003\n",
      "-67 : 0.0\n",
      "-66 : 0.005\n",
      "-65 : 0.0\n",
      "-64 : 0.001\n",
      "-63 : 0.0\n",
      "-62 : 0.005\n",
      "-61 : 0.0\n",
      "-60 : 0.004\n",
      "-59 : 0.0\n",
      "-58 : 0.006\n",
      "-57 : 0.0\n",
      "-56 : 0.009\n",
      "-55 : 0.0\n",
      "-54 : 0.004\n",
      "-53 : 0.0\n",
      "-52 : 0.005\n",
      "-51 : 0.0\n",
      "-50 : 0.007\n",
      "-49 : 0.0\n",
      "-48 : 0.016\n",
      "-47 : 0.0\n",
      "-46 : 0.007\n",
      "-45 : 0.0\n",
      "-44 : 0.013\n",
      "-43 : 0.0\n",
      "-42 : 0.007\n",
      "-41 : 0.0\n",
      "-40 : 0.013\n",
      "-39 : 0.0\n",
      "-38 : 0.012\n",
      "-37 : 0.0\n",
      "-36 : 0.008\n",
      "-35 : 0.0\n",
      "-34 : 0.011\n",
      "-33 : 0.0\n",
      "-32 : 0.021\n",
      "-31 : 0.0\n",
      "-30 : 0.021\n",
      "-29 : 0.0\n",
      "-28 : 0.011\n",
      "-27 : 0.0\n",
      "-26 : 0.017\n",
      "-25 : 0.0\n",
      "-24 : 0.017\n",
      "-23 : 0.0\n",
      "-22 : 0.02\n",
      "-21 : 0.0\n",
      "-20 : 0.013\n",
      "-19 : 0.0\n",
      "-18 : 0.029\n",
      "-17 : 0.0\n",
      "-16 : 0.03\n",
      "-15 : 0.0\n",
      "-14 : 0.016\n",
      "-13 : 0.0\n",
      "-12 : 0.017\n",
      "-11 : 0.0\n",
      "-10 : 0.02\n",
      "-9 : 0.0\n",
      "-8 : 0.019\n",
      "-7 : 0.0\n",
      "-6 : 0.02\n",
      "-5 : 0.0\n",
      "-4 : 0.018\n",
      "-3 : 0.0\n",
      "-2 : 0.027\n",
      "-1 : 0.0\n",
      "0 : 0.036\n",
      "1 : 0.0\n",
      "2 : 0.029\n",
      "3 : 0.0\n",
      "4 : 0.025\n",
      "5 : 0.0\n",
      "6 : 0.034\n",
      "7 : 0.0\n",
      "8 : 0.019\n",
      "9 : 0.0\n",
      "10 : 0.031\n",
      "11 : 0.0\n",
      "12 : 0.018\n",
      "13 : 0.0\n",
      "14 : 0.024\n",
      "15 : 0.0\n",
      "16 : 0.023\n",
      "17 : 0.0\n",
      "18 : 0.02\n",
      "19 : 0.0\n",
      "20 : 0.024\n",
      "21 : 0.0\n",
      "22 : 0.015\n",
      "23 : 0.0\n",
      "24 : 0.027\n",
      "25 : 0.0\n",
      "26 : 0.019\n",
      "27 : 0.0\n",
      "28 : 0.012\n",
      "29 : 0.0\n",
      "30 : 0.017\n",
      "31 : 0.0\n",
      "32 : 0.019\n",
      "33 : 0.0\n",
      "34 : 0.013\n",
      "35 : 0.0\n",
      "36 : 0.012\n",
      "37 : 0.0\n",
      "38 : 0.014\n",
      "39 : 0.0\n",
      "40 : 0.013\n",
      "41 : 0.0\n",
      "42 : 0.014\n",
      "43 : 0.0\n",
      "44 : 0.005\n",
      "45 : 0.0\n",
      "46 : 0.007\n",
      "47 : 0.0\n",
      "48 : 0.008\n",
      "49 : 0.0\n",
      "50 : 0.009\n",
      "51 : 0.0\n",
      "52 : 0.008\n",
      "53 : 0.0\n",
      "54 : 0.003\n",
      "55 : 0.0\n",
      "56 : 0.007\n",
      "57 : 0.0\n",
      "58 : 0.005\n",
      "59 : 0.0\n",
      "60 : 0.002\n",
      "61 : 0.0\n",
      "62 : 0.003\n",
      "63 : 0.0\n",
      "64 : 0.002\n",
      "65 : 0.0\n",
      "66 : 0.007\n",
      "67 : 0.0\n",
      "68 : 0.002\n",
      "69 : 0.0\n",
      "70 : 0.001\n",
      "71 : 0.0\n",
      "72 : 0.001\n",
      "73 : 0.0\n",
      "74 : 0.001\n",
      "75 : 0.0\n",
      "76 : 0.001\n",
      "77 : 0.0\n",
      "78 : 0.002\n",
      "79 : 0.0\n",
      "80 : 0.0\n",
      "81 : 0.0\n",
      "82 : 0.0\n",
      "83 : 0.0\n",
      "84 : 0.0\n",
      "85 : 0.0\n",
      "86 : 0.0\n",
      "87 : 0.0\n",
      "88 : 0.001\n",
      "89 : 0.0\n",
      "90 : 0.0\n",
      "91 : 0.0\n",
      "92 : 0.001\n",
      "93 : 0.0\n",
      "94 : 0.0\n",
      "95 : 0.0\n",
      "96 : 0.0\n",
      "97 : 0.0\n",
      "98 : 0.0\n",
      "99 : 0.0\n",
      "100 : 0.0\n",
      "101 : 0.0\n",
      "102 : 0.001\n"
     ]
    },
    {
     "data": {
      "image/png": "[encoded data removed]",
      "text/plain": [
       "<Figure size 432x288 with 1 Axes>"
      ]
     },
     "metadata": {
      "needs_background": "light"
     },
     "output_type": "display_data"
    }
   ],
   "source": [
    "N_repeatRW(1000,1000)#(반복시행,시간)\n"
   ]
  },
  {
   "cell_type": "markdown",
   "metadata": {},
   "source": [
    "# 2. Bifurcation\n",
    " 다음으로 주어지는 미분방정식이 있다.$$ \\frac{dx}{dt}= rx-x^2. $$\n",
    "\n",
    "#### (a) 이 방정식을 다음의 조건에서 풀고 궤적을 그려라. (미분방정식)"
   ]
  },
  {
   "cell_type": "markdown",
   "metadata": {},
   "source": [
    "1. r=-1, x(0)=2\n",
    "2. r=-1, x(0)=-2\n",
    "3. r=1, x(0)=2\n",
    "4. r=1, x(0)=-2"
   ]
  },
  {
   "cell_type": "code",
   "execution_count": 236,
   "metadata": {},
   "outputs": [],
   "source": [
    "def fx(r,x0):\n",
    "    dt=0.1\n",
    "    t=np.arange(0,10,dt)\n",
    "    x=np.array([])\n",
    "    xt=x0\n",
    "    for i in t:\n",
    "        x=np.append(x,xt)\n",
    "        xt =xt+(r-xt)*x0*dt\n",
    "    \n",
    "    \n",
    "    plt.plot(t,x,label=\"r=%d x(0)=%d\"%(r,x0))\n",
    "    plt.xlabel(\"t\")\n",
    "    plt.ylabel(\"x\")\n",
    "    plt.legend()\n",
    "    plt.show()\n"
   ]
  },
  {
   "cell_type": "code",
   "execution_count": 237,
   "metadata": {
    "scrolled": true
   },
   "outputs": [
    {
     "data": {
      "image/png": "[encoded data removed]",
      "text/plain": [
       "<Figure size 432x288 with 1 Axes>"
      ]
     },
     "metadata": {
      "needs_background": "light"
     },
     "output_type": "display_data"
    },
    {
     "data": {
      "image/png": "[encoded data removed]",
      "text/plain": [
       "<Figure size 432x288 with 1 Axes>"
      ]
     },
     "metadata": {
      "needs_background": "light"
     },
     "output_type": "display_data"
    },
    {
     "data": {
      "image/png": "[encoded data removed]",
      "text/plain": [
       "<Figure size 432x288 with 1 Axes>"
      ]
     },
     "metadata": {
      "needs_background": "light"
     },
     "output_type": "display_data"
    },
    {
     "data": {
      "image/png": "[encoded data removed]",
      "text/plain": [
       "<Figure size 432x288 with 1 Axes>"
      ]
     },
     "metadata": {
      "needs_background": "light"
     },
     "output_type": "display_data"
    }
   ],
   "source": [
    "fx(-1,2)\n",
    "fx(-1,-2)\n",
    "fx(1,2)\n",
    "fx(1,-2)"
   ]
  },
  {
   "cell_type": "markdown",
   "metadata": {},
   "source": [
    "\n",
    "#### (b) 정상상태(dx/dt=0)에서 가능한 해를 구하여라. (방정식)\n",
    "\n",
    "즉, 다음의 조건에서 파이썬을 이용하여 방정식을 풀어라.$$ 0= rx -x^2 = x( r-x) $$\n",
    "\n",
    "1. r=-1\n",
    "2. r=1"
   ]
  },
  {
   "cell_type": "code",
   "execution_count": 238,
   "metadata": {},
   "outputs": [
    {
     "data": {
      "text/plain": [
       "[-1, 0]"
      ]
     },
     "execution_count": 238,
     "metadata": {},
     "output_type": "execute_result"
    }
   ],
   "source": [
    "x = Symbol(\"x\")\n",
    "r=-1\n",
    "sympy.solve(x*(r-x))"
   ]
  },
  {
   "cell_type": "code",
   "execution_count": 239,
   "metadata": {},
   "outputs": [
    {
     "data": {
      "text/plain": [
       "[0, 1]"
      ]
     },
     "execution_count": 239,
     "metadata": {},
     "output_type": "execute_result"
    }
   ],
   "source": [
    "r=1\n",
    "sympy.solve(x*(r-x))"
   ]
  },
  {
   "cell_type": "code",
   "execution_count": null,
   "metadata": {},
   "outputs": [],
   "source": []
  }
 ],
 "metadata": {
  "kernelspec": {
   "display_name": "Python 3",
   "language": "python",
   "name": "python3"
  },
  "language_info": {
   "codemirror_mode": {
    "name": "ipython",
    "version": 3
   },
   "file_extension": ".py",
   "mimetype": "text/x-python",
   "name": "python",
   "nbconvert_exporter": "python",
   "pygments_lexer": "ipython3",
   "version": "3.8.5"
  }
 },
 "nbformat": 4,
 "nbformat_minor": 4
}
