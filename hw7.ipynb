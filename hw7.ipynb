{
 "cells": [
  {
   "cell_type": "markdown",
   "metadata": {},
   "source": [
    "# Pauli Matrices\n",
    "파울리 행렬의 아이겐밸류와 아이겐벡터를 구하시오.\n",
    "\n",
    "$$ s_x = \\begin{pmatrix} 0 & 1 \\\\ 1 & 0 \\end{pmatrix}, \\quad\n",
    "s_y = \\begin{pmatrix} 0 & -j \\\\ j & 0 \\end{pmatrix}, \\quad\n",
    "s_z  = \\begin{pmatrix} 1 & 0 \\\\ 0 & -1 \\end{pmatrix}. $$"
   ]
  },
  {
   "cell_type": "code",
   "execution_count": 25,
   "metadata": {},
   "outputs": [],
   "source": [
    "import numpy as np\n",
    "import matplotlib.pyplot as plt\n",
    "sx = np.array([[0,1],[1,0]])\n",
    "sy = np.array([[0,1j],[1j,0]])\n",
    "sz = np.array([[1,0],[0,-1]])"
   ]
  },
  {
   "cell_type": "code",
   "execution_count": 26,
   "metadata": {},
   "outputs": [
    {
     "name": "stdout",
     "output_type": "stream",
     "text": [
      "s_x\n",
      "(array([ 1., -1.]), array([[ 0.70710678, -0.70710678],\n",
      "       [ 0.70710678,  0.70710678]]))\n",
      "\n",
      "\n",
      "s_y\n",
      "(array([0.00000000e+00+1.j, 2.77555756e-17-1.j]), array([[ 0.70710678+0.00000000e+00j,  0.70710678+0.00000000e+00j],\n",
      "       [ 0.70710678+0.00000000e+00j, -0.70710678-2.22044605e-16j]]))\n",
      "\n",
      "\n",
      "s_z\n",
      "(array([ 1., -1.]), array([[1., 0.],\n",
      "       [0., 1.]]))\n"
     ]
    }
   ],
   "source": [
    "print(\"s_x\")\n",
    "print(np.linalg.eig(sx))\n",
    "print(\"\\n\")\n",
    "print(\"s_y\")\n",
    "print(np.linalg.eig(sy))\n",
    "print(\"\\n\")\n",
    "print(\"s_z\")\n",
    "print(np.linalg.eig(sz))"
   ]
  },
  {
   "cell_type": "markdown",
   "metadata": {},
   "source": [
    "# Normal Modes\n",
    "(고전역학 by Thornton & Marion 챕터 12.2 및 예제 12.3 참조) 용수철 상수가 $k$인 용수철에 연결된 두 개의 물체의 노말 모드를 구해보자. 두 개의 물체의 운동방정식은 다음으로 주어진다.$$ -m w^2 x_1 = -2kx_1 +k x_2, \\\\\n",
    "-m w^2 x_2 = k x_1 - 2 k x_2.$$eigenfrequencies $w$는 다음의 행렬식을 통해 구할 수 있다.$$ \\frac{k}{m w^2} \\begin{pmatrix} 2 & -1 \\\\ -1 & 2 \\end{pmatrix} \n",
    "\\begin{pmatrix} x_1 \\\\ x_2 \\end{pmatrix}=\n",
    "\\lambda \\begin{pmatrix} x_1 \\\\ x_2 \\end{pmatrix} $$"
   ]
  },
  {
   "cell_type": "markdown",
   "metadata": {},
   "source": [
    "# 위의 행렬의 고유값을 구하자."
   ]
  },
  {
   "cell_type": "code",
   "execution_count": 27,
   "metadata": {},
   "outputs": [
    {
     "name": "stdout",
     "output_type": "stream",
     "text": [
      "(array([3., 1.]), array([[ 0.70710678,  0.70710678],\n",
      "       [-0.70710678,  0.70710678]]))\n"
     ]
    }
   ],
   "source": [
    "s = np.array([[2,-1],[-1,2]])\n",
    "print(np.linalg.eig(s))"
   ]
  },
  {
   "cell_type": "markdown",
   "metadata": {},
   "source": [
    "따라서 eigenfrequencies는$$ w_1 = \\sqrt{\\frac{k}{m}}, \\quad w_2 = \\sqrt{\\frac{3k}{m}}. $$\n",
    "\n",
    "위에서 구한 아이겐벡터와 아이겐밸류의 의미를 설명하여라."
   ]
  },
  {
   "cell_type": "markdown",
   "metadata": {},
   "source": [
    "아이겐벡터는 진폭을 의미한다\n",
    "[3., 1.]\n",
    "물체1이 물체2의 진폭보다 3배 크다는 것을 알수있다\n",
    "\n",
    "아이겐벨류는 모드형상을 나타낸다.\n",
    "\n",
    "[ 0.70710678,  0.70710678]은 w1일때 물체가 같은 방향으로 움직이고\n",
    "\n",
    "[-0.70710678,  0.70710678]는 w2일때 물체가 다른 방향으로 움직인다."
   ]
  },
  {
   "cell_type": "code",
   "execution_count": null,
   "metadata": {},
   "outputs": [],
   "source": []
  }
 ],
 "metadata": {
  "kernelspec": {
   "display_name": "Python 3",
   "language": "python",
   "name": "python3"
  },
  "language_info": {
   "codemirror_mode": {
    "name": "ipython",
    "version": 3
   },
   "file_extension": ".py",
   "mimetype": "text/x-python",
   "name": "python",
   "nbconvert_exporter": "python",
   "pygments_lexer": "ipython3",
   "version": "3.8.5"
  }
 },
 "nbformat": 4,
 "nbformat_minor": 4
}
