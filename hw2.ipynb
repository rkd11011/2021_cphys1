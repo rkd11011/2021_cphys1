{
 "cells": [
  {
   "cell_type": "markdown",
   "metadata": {},
   "source": [
    "# Logistic Map (part 2)"
   ]
  },
  {
   "cell_type": "markdown",
   "metadata": {},
   "source": [
    "$f_n$을 구하는 함수를 작성하여라."
   ]
  },
  {
   "cell_type": "code",
   "execution_count": 111,
   "metadata": {},
   "outputs": [],
   "source": [
    "def Logistic(r,f,n1):\n",
    "    f2=f\n",
    "    for i in range(0, n1):\n",
    "        f2=r*f2*(1-f2)\n",
    "        \n",
    "    return f2"
   ]
  },
  {
   "cell_type": "markdown",
   "metadata": {},
   "source": [
    "작성한 함수를 이용하여 다음의 조건에서 $n=1$에서 $20$까지 로지스틱 맵의 값을 구하여라.\n",
    "\n",
    "$r=4.5$, $f_0$=0.5\n",
    "\n",
    "$r=4.5$, $f_0$=0.51\n",
    "\n",
    "$r=4.5$, $f_0$=0.501"
   ]
  },
  {
   "cell_type": "code",
   "execution_count": 153,
   "metadata": {},
   "outputs": [
    {
     "name": "stdout",
     "output_type": "stream",
     "text": [
      "\n",
      "\n",
      "\n",
      "\n",
      "r= 4.5 f= 0.5\n",
      "\n",
      "\n",
      "n 1 : 1.125\n",
      "n 2 : -0.6328125\n",
      "n 3 : -4.649688720703125\n",
      "n 4 : -118.21182264061645\n",
      "n 5 : -63415.11075595729\n",
      "n 6 : -18096928592.854885\n",
      "n 7 : -1.4737447103084353e+21\n",
      "n 8 : -9.773655620229423e+42\n",
      "n 9 : -4.298595488227898e+86\n",
      "n 10 : -8.315065427135959e+173\n",
      "n 11 : -inf\n",
      "n 12 : -inf\n",
      "n 13 : -inf\n",
      "n 14 : -inf\n",
      "n 15 : -inf\n",
      "n 16 : -inf\n",
      "n 17 : -inf\n",
      "n 18 : -inf\n",
      "n 19 : -inf\n",
      "n 20 : -inf\n",
      "\n",
      "\n",
      "\n",
      "\n",
      "r= 4.5 f= 0.51\n",
      "\n",
      "\n",
      "n 1 : 1.12455\n",
      "n 2 : -0.6302821612499996\n",
      "n 3 : -4.623919938179865\n",
      "n 4 : -117.0204998979472\n",
      "n 5 : -62148.68053318534\n",
      "n 6 : -17381342883.134087\n",
      "n 7 : -1.359499861973058e+21\n",
      "n 8 : -8.317079436171436e+42\n",
      "n 9 : -3.11282146564136e+86\n",
      "n 10 : -4.360345864630932e+173\n",
      "n 11 : -inf\n",
      "n 12 : -inf\n",
      "n 13 : -inf\n",
      "n 14 : -inf\n",
      "n 15 : -inf\n",
      "n 16 : -inf\n",
      "n 17 : -inf\n",
      "n 18 : -inf\n",
      "n 19 : -inf\n",
      "n 20 : -inf\n",
      "\n",
      "\n",
      "\n",
      "\n",
      "r= 4.5 f= 0.501\n",
      "\n",
      "\n",
      "n 1 : 1.1249955\n",
      "n 2 : -0.6327871875911253\n",
      "n 3 : -4.649430655667751\n",
      "n 4 : -118.19986234888862\n",
      "n 5 : -63402.33294740298\n",
      "n 6 : -18089636514.7783\n",
      "n 7 : -1.4725572716470052e+21\n",
      "n 8 : -9.757912132262123e+42\n",
      "n 9 : -4.2847582131426745e+86\n",
      "n 10 : -8.261618825292122e+173\n",
      "n 11 : -inf\n",
      "n 12 : -inf\n",
      "n 13 : -inf\n",
      "n 14 : -inf\n",
      "n 15 : -inf\n",
      "n 16 : -inf\n",
      "n 17 : -inf\n",
      "n 18 : -inf\n",
      "n 19 : -inf\n",
      "n 20 : -inf\n"
     ]
    }
   ],
   "source": [
    "\n",
    "\n",
    "r0=[4.5,4.5,4.5]\n",
    "f0=[0.5,0.51,0.501]\n",
    "n=20\n",
    "\n",
    "for k in range(0, 3):\n",
    "    r = r0[k]\n",
    "    f = f0[k]\n",
    "    print('\\n')\n",
    "    print('\\n')\n",
    "    print('r=',r,'f=',f)\n",
    "    print('\\n')\n",
    "    for j in range(1, n+1):\n",
    "        fp = Logistic(r,f,j)\n",
    "        print('n',j,':',fp)\n",
    "\n",
    "\n",
    "\n",
    "\n",
    "    \n",
    "      \n"
   ]
  },
  {
   "cell_type": "markdown",
   "metadata": {},
   "source": [
    "# 피보나치 수 (Fibonacci numbers)"
   ]
  },
  {
   "cell_type": "code",
   "execution_count": 150,
   "metadata": {},
   "outputs": [],
   "source": [
    "def Fibonacci(n):\n",
    "    f=[1,1]\n",
    "\n",
    "    if n>2:\n",
    "        for i in range(2,n):\n",
    "            h=f[i-2]+f[i-1]\n",
    "            f.append(h)\n",
    "    fr=f\n",
    "    return fr"
   ]
  },
  {
   "cell_type": "code",
   "execution_count": 151,
   "metadata": {},
   "outputs": [
    {
     "name": "stdout",
     "output_type": "stream",
     "text": [
      "n= 10\n",
      "1 , 1 , 2 , 3 , 5 , 8 , 13 , 21 , 34 , 55 , ...\n"
     ]
    }
   ],
   "source": [
    "n=10\n",
    "Fibonacci(n)\n",
    "print('n=',n)\n",
    "for j in range(n):\n",
    "    print(f[j],', ',end='')\n",
    "print('...')"
   ]
  },
  {
   "cell_type": "code",
   "execution_count": null,
   "metadata": {},
   "outputs": [],
   "source": []
  }
 ],
 "metadata": {
  "kernelspec": {
   "display_name": "Python 3",
   "language": "python",
   "name": "python3"
  },
  "language_info": {
   "codemirror_mode": {
    "name": "ipython",
    "version": 3
   },
   "file_extension": ".py",
   "mimetype": "text/x-python",
   "name": "python",
   "nbconvert_exporter": "python",
   "pygments_lexer": "ipython3",
   "version": "3.8.5"
  }
 },
 "nbformat": 4,
 "nbformat_minor": 4
}
